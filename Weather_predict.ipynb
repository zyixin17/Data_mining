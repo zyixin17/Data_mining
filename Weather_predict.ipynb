{
 "cells": [
  {
   "cell_type": "code",
   "execution_count": 1,
   "id": "d71881b0",
   "metadata": {},
   "outputs": [],
   "source": [
    "import pandas as pd\n",
    "import numpy as np\n",
    "import matplotlib.pyplot as plt\n",
    "import seaborn as sns"
   ]
  },
  {
   "cell_type": "markdown",
   "id": "84071451",
   "metadata": {},
   "source": [
    "# Import data"
   ]
  },
  {
   "cell_type": "code",
   "execution_count": 2,
   "id": "1060e71c",
   "metadata": {},
   "outputs": [
    {
     "data": {
      "text/html": [
       "<div>\n",
       "<style scoped>\n",
       "    .dataframe tbody tr th:only-of-type {\n",
       "        vertical-align: middle;\n",
       "    }\n",
       "\n",
       "    .dataframe tbody tr th {\n",
       "        vertical-align: top;\n",
       "    }\n",
       "\n",
       "    .dataframe thead th {\n",
       "        text-align: right;\n",
       "    }\n",
       "</style>\n",
       "<table border=\"1\" class=\"dataframe\">\n",
       "  <thead>\n",
       "    <tr style=\"text-align: right;\">\n",
       "      <th></th>\n",
       "      <th>Year</th>\n",
       "      <th>Month</th>\n",
       "      <th>day</th>\n",
       "      <th>temp_max</th>\n",
       "      <th>temp_avg</th>\n",
       "      <th>temp_min</th>\n",
       "      <th>dewp_max</th>\n",
       "      <th>dewp_avg</th>\n",
       "      <th>dewp_min</th>\n",
       "      <th>humi_max</th>\n",
       "      <th>...</th>\n",
       "      <th>wind_max</th>\n",
       "      <th>wind_avg</th>\n",
       "      <th>wind_min</th>\n",
       "      <th>pres_max</th>\n",
       "      <th>pres_avg</th>\n",
       "      <th>pres_min</th>\n",
       "      <th>prec</th>\n",
       "      <th>Time</th>\n",
       "      <th>DTR</th>\n",
       "      <th>weather</th>\n",
       "    </tr>\n",
       "  </thead>\n",
       "  <tbody>\n",
       "    <tr>\n",
       "      <th>732</th>\n",
       "      <td>2019</td>\n",
       "      <td>1</td>\n",
       "      <td>1</td>\n",
       "      <td>63</td>\n",
       "      <td>57.8</td>\n",
       "      <td>51</td>\n",
       "      <td>59</td>\n",
       "      <td>54.4</td>\n",
       "      <td>50</td>\n",
       "      <td>96</td>\n",
       "      <td>...</td>\n",
       "      <td>8</td>\n",
       "      <td>3.6</td>\n",
       "      <td>0</td>\n",
       "      <td>29.5</td>\n",
       "      <td>29.5</td>\n",
       "      <td>29.4</td>\n",
       "      <td>1.09</td>\n",
       "      <td>2019-1-1</td>\n",
       "      <td>12</td>\n",
       "      <td>Drizzle</td>\n",
       "    </tr>\n",
       "    <tr>\n",
       "      <th>733</th>\n",
       "      <td>2019</td>\n",
       "      <td>1</td>\n",
       "      <td>2</td>\n",
       "      <td>53</td>\n",
       "      <td>50.6</td>\n",
       "      <td>48</td>\n",
       "      <td>51</td>\n",
       "      <td>49.0</td>\n",
       "      <td>48</td>\n",
       "      <td>100</td>\n",
       "      <td>...</td>\n",
       "      <td>9</td>\n",
       "      <td>4.5</td>\n",
       "      <td>0</td>\n",
       "      <td>29.6</td>\n",
       "      <td>29.5</td>\n",
       "      <td>29.4</td>\n",
       "      <td>0.00</td>\n",
       "      <td>2019-1-2</td>\n",
       "      <td>5</td>\n",
       "      <td>Cloudy</td>\n",
       "    </tr>\n",
       "    <tr>\n",
       "      <th>734</th>\n",
       "      <td>2019</td>\n",
       "      <td>1</td>\n",
       "      <td>3</td>\n",
       "      <td>55</td>\n",
       "      <td>52.1</td>\n",
       "      <td>50</td>\n",
       "      <td>54</td>\n",
       "      <td>50.4</td>\n",
       "      <td>48</td>\n",
       "      <td>97</td>\n",
       "      <td>...</td>\n",
       "      <td>14</td>\n",
       "      <td>5.5</td>\n",
       "      <td>0</td>\n",
       "      <td>29.4</td>\n",
       "      <td>29.3</td>\n",
       "      <td>29.2</td>\n",
       "      <td>0.56</td>\n",
       "      <td>2019-1-3</td>\n",
       "      <td>5</td>\n",
       "      <td>Drizzle</td>\n",
       "    </tr>\n",
       "    <tr>\n",
       "      <th>735</th>\n",
       "      <td>2019</td>\n",
       "      <td>1</td>\n",
       "      <td>4</td>\n",
       "      <td>62</td>\n",
       "      <td>52.6</td>\n",
       "      <td>43</td>\n",
       "      <td>59</td>\n",
       "      <td>48.4</td>\n",
       "      <td>40</td>\n",
       "      <td>96</td>\n",
       "      <td>...</td>\n",
       "      <td>23</td>\n",
       "      <td>13.6</td>\n",
       "      <td>6</td>\n",
       "      <td>29.3</td>\n",
       "      <td>29.1</td>\n",
       "      <td>29.0</td>\n",
       "      <td>0.82</td>\n",
       "      <td>2019-1-4</td>\n",
       "      <td>19</td>\n",
       "      <td>Rain</td>\n",
       "    </tr>\n",
       "    <tr>\n",
       "      <th>736</th>\n",
       "      <td>2019</td>\n",
       "      <td>1</td>\n",
       "      <td>5</td>\n",
       "      <td>60</td>\n",
       "      <td>45.9</td>\n",
       "      <td>40</td>\n",
       "      <td>40</td>\n",
       "      <td>38.1</td>\n",
       "      <td>35</td>\n",
       "      <td>93</td>\n",
       "      <td>...</td>\n",
       "      <td>16</td>\n",
       "      <td>7.2</td>\n",
       "      <td>0</td>\n",
       "      <td>29.5</td>\n",
       "      <td>29.4</td>\n",
       "      <td>29.3</td>\n",
       "      <td>0.01</td>\n",
       "      <td>2019-1-5</td>\n",
       "      <td>20</td>\n",
       "      <td>Sun</td>\n",
       "    </tr>\n",
       "  </tbody>\n",
       "</table>\n",
       "<p>5 rows × 22 columns</p>\n",
       "</div>"
      ],
      "text/plain": [
       "     Year  Month  day  temp_max  temp_avg  temp_min  dewp_max  dewp_avg  \\\n",
       "732  2019      1    1        63      57.8        51        59      54.4   \n",
       "733  2019      1    2        53      50.6        48        51      49.0   \n",
       "734  2019      1    3        55      52.1        50        54      50.4   \n",
       "735  2019      1    4        62      52.6        43        59      48.4   \n",
       "736  2019      1    5        60      45.9        40        40      38.1   \n",
       "\n",
       "     dewp_min  humi_max  ...  wind_max  wind_avg  wind_min  pres_max  \\\n",
       "732        50        96  ...         8       3.6         0      29.5   \n",
       "733        48       100  ...         9       4.5         0      29.6   \n",
       "734        48        97  ...        14       5.5         0      29.4   \n",
       "735        40        96  ...        23      13.6         6      29.3   \n",
       "736        35        93  ...        16       7.2         0      29.5   \n",
       "\n",
       "     pres_avg  pres_min  prec      Time  DTR  weather  \n",
       "732      29.5      29.4  1.09  2019-1-1   12  Drizzle  \n",
       "733      29.5      29.4  0.00  2019-1-2    5   Cloudy  \n",
       "734      29.3      29.2  0.56  2019-1-3    5  Drizzle  \n",
       "735      29.1      29.0  0.82  2019-1-4   19     Rain  \n",
       "736      29.4      29.3  0.01  2019-1-5   20      Sun  \n",
       "\n",
       "[5 rows x 22 columns]"
      ]
     },
     "execution_count": 2,
     "metadata": {},
     "output_type": "execute_result"
    }
   ],
   "source": [
    "weather_data = pd.read_csv('weather_Final.csv',index_col=0)\n",
    "weather_data.head()"
   ]
  },
  {
   "cell_type": "code",
   "execution_count": 3,
   "id": "9ce540f9",
   "metadata": {},
   "outputs": [],
   "source": [
    "# Target is the last column\n",
    "Y = weather_data.iloc[:,-1].values\n",
    "X = weather_data[['temp_avg','dewp_avg','humi_avg','pres_avg','wind_avg','prec','DTR']].values"
   ]
  },
  {
   "cell_type": "code",
   "execution_count": 4,
   "id": "ccf7fa28",
   "metadata": {},
   "outputs": [
    {
     "data": {
      "text/plain": [
       "array(['Cloudy', 'Drizzle', 'Rain', 'Sun', 'Cloudy', 'Sun', 'Sun', 'Sun',\n",
       "       'Sun'], dtype=object)"
      ]
     },
     "execution_count": 4,
     "metadata": {},
     "output_type": "execute_result"
    }
   ],
   "source": [
    "Y[1:10]"
   ]
  },
  {
   "cell_type": "code",
   "execution_count": 5,
   "id": "bdae8c1a",
   "metadata": {},
   "outputs": [
    {
     "data": {
      "text/plain": [
       "array([[57.8 , 54.4 , 88.6 , ...,  3.6 ,  1.09, 12.  ],\n",
       "       [50.6 , 49.  , 94.4 , ...,  4.5 ,  0.  ,  5.  ],\n",
       "       [52.1 , 50.4 , 94.  , ...,  5.5 ,  0.56,  5.  ],\n",
       "       ...,\n",
       "       [70.8 , 66.8 , 87.5 , ..., 11.5 ,  0.  , 11.  ],\n",
       "       [65.8 , 65.1 , 97.8 , ...,  2.7 ,  0.  , 19.  ],\n",
       "       [70.8 , 68.5 , 92.3 , ...,  9.5 ,  0.  ,  2.  ]])"
      ]
     },
     "execution_count": 5,
     "metadata": {},
     "output_type": "execute_result"
    }
   ],
   "source": [
    "X"
   ]
  },
  {
   "cell_type": "markdown",
   "id": "57ee4b44",
   "metadata": {},
   "source": [
    "# Data preprocessing"
   ]
  },
  {
   "cell_type": "markdown",
   "id": "acb84b4a",
   "metadata": {},
   "source": [
    "### remove outliers"
   ]
  },
  {
   "cell_type": "code",
   "execution_count": 6,
   "id": "b7f26d85",
   "metadata": {},
   "outputs": [
    {
     "data": {
      "text/plain": [
       "<AxesSubplot:xlabel='DTR', ylabel='Count'>"
      ]
     },
     "execution_count": 6,
     "metadata": {},
     "output_type": "execute_result"
    },
    {
     "data": {
      "image/png": "[encoded data removed]",
      "text/plain": [
       "<Figure size 432x288 with 1 Axes>"
      ]
     },
     "metadata": {
      "needs_background": "light"
     },
     "output_type": "display_data"
    }
   ],
   "source": [
    "sns.histplot(kde=True, data=weather_data, x='DTR')\n"
   ]
  },
  {
   "cell_type": "code",
   "execution_count": 7,
   "id": "5c8bd8b5",
   "metadata": {},
   "outputs": [],
   "source": [
    "weather_data = weather_data[weather_data['DTR'] <= 40]"
   ]
  },
  {
   "cell_type": "code",
   "execution_count": 8,
   "id": "d27f37f4",
   "metadata": {},
   "outputs": [
    {
     "data": {
      "text/plain": [
       "(1084, 22)"
      ]
     },
     "execution_count": 8,
     "metadata": {},
     "output_type": "execute_result"
    }
   ],
   "source": [
    "weather_data.shape"
   ]
  },
  {
   "cell_type": "code",
   "execution_count": 9,
   "id": "a2962c05",
   "metadata": {},
   "outputs": [
    {
     "data": {
      "text/plain": [
       "<AxesSubplot:xlabel='DTR', ylabel='Count'>"
      ]
     },
     "execution_count": 9,
     "metadata": {},
     "output_type": "execute_result"
    },
    {
     "data": {
      "image/png": "[encoded data removed]",
      "text/plain": [
       "<Figure size 432x288 with 1 Axes>"
      ]
     },
     "metadata": {
      "needs_background": "light"
     },
     "output_type": "display_data"
    }
   ],
   "source": [
    "sns.histplot(kde=True, data=weather_data, x='DTR')"
   ]
  },
  {
   "cell_type": "markdown",
   "id": "421f3809",
   "metadata": {},
   "source": [
    "### Splitting data into the training set and testing set"
   ]
  },
  {
   "cell_type": "code",
   "execution_count": 10,
   "id": "bb7fff94",
   "metadata": {},
   "outputs": [],
   "source": [
    "from sklearn.model_selection import train_test_split\n",
    "X_train,X_test,Y_train,Y_test = train_test_split(X,Y,test_size = 0.2, random_state=1)"
   ]
  },
  {
   "cell_type": "code",
   "execution_count": 11,
   "id": "cb1a9e8f",
   "metadata": {},
   "outputs": [
    {
     "name": "stdout",
     "output_type": "stream",
     "text": [
      "[[39.   15.3  40.1  ...  5.5   0.   20.  ]\n",
      " [70.7  54.2  59.1  ... 10.1   0.2  13.  ]\n",
      " [52.6  48.4  85.8  ... 13.6   0.82 19.  ]\n",
      " ...\n",
      " [78.1  65.6  66.2  ...  7.6   0.   12.  ]\n",
      " [79.   71.7  80.1  ...  5.6   0.24 21.  ]\n",
      " [40.4  30.1  66.3  ...  8.    0.   49.  ]]\n"
     ]
    }
   ],
   "source": [
    "print(X_train)"
   ]
  },
  {
   "cell_type": "code",
   "execution_count": 12,
   "id": "838ef53f",
   "metadata": {},
   "outputs": [
    {
     "name": "stdout",
     "output_type": "stream",
     "text": [
      "['Sun' 'Drizzle' 'Rain' 'Sun' 'Sun' 'Sun' 'Drizzle' 'Rain' 'Sun' 'Drizzle'\n",
      " 'Cloudy' 'Sun' 'Drizzle' 'Drizzle' 'Sun' 'Cloudy' 'Drizzle' 'Cloudy'\n",
      " 'Sun' 'Sun' 'Cloudy' 'Sun' 'Cloudy' 'Sun' 'Sun' 'Sun' 'Cloudy' 'Rain'\n",
      " 'Sun' 'Cloudy' 'Sun' 'Sun' 'Sun' 'Cloudy' 'Cloudy' 'Drizzle' 'Sun' 'Sun'\n",
      " 'Sun' 'Cloudy' 'Cloudy' 'Drizzle' 'Sun' 'Rain' 'Sun' 'Sun' 'Cloudy'\n",
      " 'Drizzle' 'Cloudy' 'Sun' 'Rain' 'Drizzle' 'Sun' 'Sun' 'Drizzle' 'Sun'\n",
      " 'Cloudy' 'Sun' 'Sun' 'Cloudy' 'Sun' 'Rain' 'Cloudy' 'Rain' 'Sun' 'Cloudy'\n",
      " 'Sun' 'Cloudy' 'Sun' 'Rain' 'Sun' 'Cloudy' 'Sun' 'Cloudy' 'Cloudy' 'Sun'\n",
      " 'Sun' 'Sun' 'Sun' 'Sun' 'Rain' 'Drizzle' 'Rain' 'Cloudy' 'Rain' 'Rain'\n",
      " 'Rain' 'Drizzle' 'Sun' 'Sun' 'Drizzle' 'Drizzle' 'Rain' 'Cloudy' 'Sun'\n",
      " 'Drizzle' 'Sun' 'Sun' 'Drizzle' 'Cloudy' 'Cloudy' 'Sun' 'Sun' 'Drizzle'\n",
      " 'Rain' 'Sun' 'Cloudy' 'Sun' 'Cloudy' 'Rain' 'Sun' 'Drizzle' 'Sun'\n",
      " 'Cloudy' 'Cloudy' 'Sun' 'Drizzle' 'Sun' 'Sun' 'Sun' 'Sun' 'Drizzle'\n",
      " 'Drizzle' 'Cloudy' 'Drizzle' 'Sun' 'Cloudy' 'Drizzle' 'Sun' 'Drizzle'\n",
      " 'Sun' 'Drizzle' 'Sun' 'Sun' 'Cloudy' 'Sun' 'Cloudy' 'Rain' 'Sun'\n",
      " 'Drizzle' 'Drizzle' 'Sun' 'Sun' 'Sun' 'Drizzle' 'Sun' 'Cloudy' 'Sun'\n",
      " 'Sun' 'Cloudy' 'Drizzle' 'Sun' 'Drizzle' 'Sun' 'Sun' 'Drizzle' 'Sun'\n",
      " 'Sun' 'Drizzle' 'Rain' 'Drizzle' 'Cloudy' 'Sun' 'Cloudy' 'Sun' 'Rain'\n",
      " 'Drizzle' 'Sun' 'Sun' 'Drizzle' 'Rain' 'Cloudy' 'Sun' 'Sun' 'Drizzle'\n",
      " 'Drizzle' 'Cloudy' 'Sun' 'Rain' 'Sun' 'Sun' 'Sun' 'Sun' 'Cloudy' 'Sun'\n",
      " 'Sun' 'Cloudy' 'Drizzle' 'Cloudy' 'Cloudy' 'Sun' 'Sun' 'Sun' 'Sun'\n",
      " 'Cloudy' 'Sun' 'Sun' 'Sun' 'Drizzle' 'Sun' 'Sun' 'Rain' 'Rain' 'Cloudy'\n",
      " 'Sun' 'Cloudy' 'Cloudy' 'Cloudy' 'Cloudy' 'Rain' 'Sun' 'Cloudy' 'Drizzle'\n",
      " 'Sun' 'Sun' 'Cloudy' 'Sun' 'Rain' 'Rain' 'Sun' 'Sun' 'Rain' 'Sun' 'Sun'\n",
      " 'Drizzle' 'Sun' 'Sun' 'Rain' 'Drizzle' 'Sun' 'Sun' 'Cloudy' 'Sun' 'Rain'\n",
      " 'Sun' 'Drizzle' 'Cloudy' 'Drizzle' 'Cloudy' 'Drizzle' 'Cloudy' 'Drizzle'\n",
      " 'Sun' 'Cloudy' 'Cloudy' 'Sun' 'Cloudy' 'Cloudy' 'Drizzle' 'Drizzle' 'Sun'\n",
      " 'Cloudy' 'Drizzle' 'Sun' 'Rain' 'Cloudy' 'Drizzle' 'Cloudy' 'Drizzle'\n",
      " 'Cloudy' 'Cloudy' 'Cloudy' 'Sun' 'Cloudy' 'Sun' 'Sun' 'Sun' 'Cloudy'\n",
      " 'Sun' 'Cloudy' 'Sun' 'Drizzle' 'Sun' 'Drizzle' 'Cloudy' 'Sun' 'Sun'\n",
      " 'Cloudy' 'Cloudy' 'Drizzle' 'Rain' 'Sun' 'Sun' 'Drizzle' 'Sun' 'Sun'\n",
      " 'Rain' 'Rain' 'Rain' 'Sun' 'Drizzle' 'Sun' 'Cloudy' 'Drizzle' 'Sun'\n",
      " 'Rain' 'Drizzle' 'Sun' 'Cloudy' 'Sun' 'Sun' 'Sun' 'Rain' 'Sun' 'Sun'\n",
      " 'Cloudy' 'Sun' 'Sun' 'Sun' 'Sun' 'Sun' 'Cloudy' 'Cloudy' 'Sun' 'Cloudy'\n",
      " 'Sun' 'Drizzle' 'Sun' 'Rain' 'Drizzle' 'Sun' 'Sun' 'Cloudy' 'Rain' 'Sun'\n",
      " 'Sun' 'Cloudy' 'Sun' 'Rain' 'Sun' 'Cloudy' 'Cloudy' 'Sun' 'Sun' 'Cloudy'\n",
      " 'Cloudy' 'Sun' 'Sun' 'Sun' 'Drizzle' 'Cloudy' 'Sun' 'Sun' 'Sun' 'Cloudy'\n",
      " 'Drizzle' 'Sun' 'Sun' 'Cloudy' 'Sun' 'Sun' 'Cloudy' 'Sun' 'Sun' 'Sun'\n",
      " 'Sun' 'Drizzle' 'Cloudy' 'Rain' 'Rain' 'Drizzle' 'Sun' 'Rain' 'Drizzle'\n",
      " 'Rain' 'Rain' 'Sun' 'Cloudy' 'Drizzle' 'Sun' 'Cloudy' 'Rain' 'Rain' 'Sun'\n",
      " 'Drizzle' 'Sun' 'Rain' 'Cloudy' 'Sun' 'Sun' 'Sun' 'Cloudy' 'Sun' 'Cloudy'\n",
      " 'Cloudy' 'Rain' 'Sun' 'Sun' 'Sun' 'Sun' 'Drizzle' 'Cloudy' 'Sun' 'Cloudy'\n",
      " 'Sun' 'Sun' 'Sun' 'Sun' 'Drizzle' 'Drizzle' 'Cloudy' 'Drizzle' 'Sun'\n",
      " 'Drizzle' 'Rain' 'Cloudy' 'Sun' 'Sun' 'Sun' 'Sun' 'Cloudy' 'Sun'\n",
      " 'Drizzle' 'Drizzle' 'Drizzle' 'Cloudy' 'Cloudy' 'Rain' 'Sun' 'Sun' 'Sun'\n",
      " 'Cloudy' 'Drizzle' 'Cloudy' 'Sun' 'Cloudy' 'Sun' 'Sun' 'Sun' 'Cloudy'\n",
      " 'Sun' 'Drizzle' 'Rain' 'Sun' 'Sun' 'Rain' 'Sun' 'Sun' 'Sun' 'Sun' 'Rain'\n",
      " 'Drizzle' 'Sun' 'Sun' 'Sun' 'Cloudy' 'Drizzle' 'Sun' 'Sun' 'Sun'\n",
      " 'Drizzle' 'Sun' 'Cloudy' 'Sun' 'Cloudy' 'Sun' 'Cloudy' 'Sun' 'Sun' 'Sun'\n",
      " 'Sun' 'Sun' 'Rain' 'Sun' 'Rain' 'Sun' 'Sun' 'Cloudy' 'Sun' 'Rain' 'Sun'\n",
      " 'Drizzle' 'Cloudy' 'Drizzle' 'Sun' 'Sun' 'Sun' 'Sun' 'Drizzle' 'Drizzle'\n",
      " 'Sun' 'Sun' 'Cloudy' 'Sun' 'Sun' 'Sun' 'Cloudy' 'Sun' 'Sun' 'Drizzle'\n",
      " 'Drizzle' 'Rain' 'Cloudy' 'Sun' 'Sun' 'Rain' 'Sun' 'Drizzle' 'Sun'\n",
      " 'Cloudy' 'Sun' 'Cloudy' 'Sun' 'Sun' 'Cloudy' 'Sun' 'Drizzle' 'Drizzle'\n",
      " 'Sun' 'Cloudy' 'Drizzle' 'Cloudy' 'Sun' 'Cloudy' 'Sun' 'Cloudy' 'Cloudy'\n",
      " 'Cloudy' 'Cloudy' 'Sun' 'Sun' 'Sun' 'Cloudy' 'Cloudy' 'Rain' 'Rain'\n",
      " 'Cloudy' 'Sun' 'Sun' 'Sun' 'Rain' 'Sun' 'Sun' 'Sun' 'Cloudy' 'Sun' 'Rain'\n",
      " 'Cloudy' 'Sun' 'Drizzle' 'Cloudy' 'Sun' 'Rain' 'Sun' 'Sun' 'Rain'\n",
      " 'Cloudy' 'Sun' 'Drizzle' 'Sun' 'Cloudy' 'Cloudy' 'Sun' 'Cloudy' 'Sun'\n",
      " 'Sun' 'Sun' 'Rain' 'Drizzle' 'Drizzle' 'Cloudy' 'Rain' 'Drizzle' 'Sun'\n",
      " 'Cloudy' 'Rain' 'Drizzle' 'Sun' 'Cloudy' 'Drizzle' 'Cloudy' 'Sun' 'Sun'\n",
      " 'Drizzle' 'Drizzle' 'Sun' 'Cloudy' 'Cloudy' 'Sun' 'Sun' 'Cloudy'\n",
      " 'Drizzle' 'Sun' 'Cloudy' 'Sun' 'Cloudy' 'Rain' 'Drizzle' 'Rain' 'Sun'\n",
      " 'Cloudy' 'Rain' 'Cloudy' 'Rain' 'Cloudy' 'Drizzle' 'Sun' 'Rain' 'Cloudy'\n",
      " 'Sun' 'Sun' 'Sun' 'Sun' 'Rain' 'Sun' 'Drizzle' 'Cloudy' 'Sun' 'Sun' 'Sun'\n",
      " 'Sun' 'Cloudy' 'Sun' 'Cloudy' 'Drizzle' 'Cloudy' 'Cloudy' 'Cloudy' 'Rain'\n",
      " 'Rain' 'Rain' 'Sun' 'Sun' 'Sun' 'Cloudy' 'Cloudy' 'Sun' 'Rain' 'Rain'\n",
      " 'Cloudy' 'Sun' 'Drizzle' 'Drizzle' 'Sun' 'Rain' 'Sun' 'Sun' 'Sun'\n",
      " 'Cloudy' 'Drizzle' 'Sun' 'Sun' 'Sun' 'Sun' 'Cloudy' 'Cloudy' 'Drizzle'\n",
      " 'Sun' 'Sun' 'Cloudy' 'Drizzle' 'Sun' 'Cloudy' 'Rain' 'Drizzle' 'Cloudy'\n",
      " 'Drizzle' 'Cloudy' 'Drizzle' 'Sun' 'Cloudy' 'Rain' 'Cloudy' 'Rain' 'Sun'\n",
      " 'Rain' 'Sun' 'Cloudy' 'Sun' 'Sun' 'Sun' 'Cloudy' 'Drizzle' 'Cloudy'\n",
      " 'Cloudy' 'Rain' 'Sun' 'Cloudy' 'Sun' 'Drizzle' 'Cloudy' 'Sun' 'Drizzle'\n",
      " 'Rain' 'Drizzle' 'Drizzle' 'Drizzle' 'Cloudy' 'Rain' 'Cloudy' 'Sun'\n",
      " 'Cloudy' 'Rain' 'Sun' 'Rain' 'Cloudy' 'Sun' 'Cloudy' 'Sun' 'Cloudy'\n",
      " 'Drizzle' 'Rain' 'Sun' 'Rain' 'Sun' 'Drizzle' 'Sun' 'Drizzle' 'Sun'\n",
      " 'Cloudy' 'Cloudy' 'Rain' 'Cloudy' 'Sun' 'Sun' 'Cloudy' 'Cloudy' 'Sun'\n",
      " 'Rain' 'Cloudy' 'Cloudy' 'Drizzle' 'Sun' 'Cloudy' 'Sun' 'Drizzle' 'Sun'\n",
      " 'Rain' 'Sun' 'Sun' 'Drizzle' 'Sun' 'Sun' 'Cloudy' 'Rain' 'Rain' 'Rain'\n",
      " 'Sun' 'Cloudy' 'Sun' 'Sun' 'Cloudy' 'Sun' 'Rain' 'Cloudy' 'Sun' 'Cloudy'\n",
      " 'Rain' 'Cloudy' 'Sun' 'Sun' 'Drizzle' 'Sun' 'Cloudy' 'Cloudy' 'Sun'\n",
      " 'Drizzle' 'Sun' 'Drizzle' 'Sun' 'Rain' 'Sun' 'Drizzle' 'Drizzle' 'Sun'\n",
      " 'Sun' 'Drizzle' 'Rain' 'Sun' 'Sun' 'Sun' 'Sun' 'Rain' 'Cloudy' 'Sun'\n",
      " 'Sun' 'Sun' 'Rain' 'Cloudy' 'Rain' 'Sun' 'Sun' 'Sun' 'Sun' 'Cloudy'\n",
      " 'Drizzle' 'Cloudy' 'Sun' 'Cloudy' 'Sun' 'Sun' 'Drizzle' 'Rain' 'Sun'\n",
      " 'Sun' 'Rain' 'Sun' 'Sun' 'Drizzle' 'Cloudy' 'Drizzle' 'Cloudy' 'Drizzle'\n",
      " 'Drizzle' 'Sun' 'Cloudy' 'Drizzle' 'Sun' 'Drizzle' 'Sun' 'Cloudy' 'Sun'\n",
      " 'Rain' 'Sun' 'Sun' 'Sun' 'Sun' 'Sun' 'Cloudy' 'Sun' 'Sun' 'Cloudy'\n",
      " 'Drizzle' 'Cloudy' 'Sun' 'Rain' 'Drizzle' 'Cloudy' 'Cloudy' 'Cloudy'\n",
      " 'Sun' 'Cloudy' 'Sun' 'Cloudy' 'Sun' 'Sun' 'Rain' 'Sun' 'Sun' 'Cloudy'\n",
      " 'Cloudy' 'Sun' 'Cloudy' 'Drizzle' 'Rain' 'Drizzle' 'Sun' 'Sun' 'Sun'\n",
      " 'Cloudy' 'Cloudy' 'Rain' 'Rain' 'Drizzle' 'Sun' 'Sun' 'Sun' 'Sun'\n",
      " 'Cloudy' 'Cloudy' 'Sun' 'Sun' 'Sun' 'Sun' 'Rain' 'Drizzle' 'Rain' 'Rain'\n",
      " 'Drizzle' 'Rain' 'Cloudy' 'Sun' 'Sun' 'Drizzle' 'Sun' 'Drizzle' 'Sun']\n"
     ]
    }
   ],
   "source": [
    "print(Y_train)"
   ]
  },
  {
   "cell_type": "markdown",
   "id": "f4a38593",
   "metadata": {},
   "source": [
    "### Feature Scaling\n",
    "#### (x-mean(x))/standard deviation(x)"
   ]
  },
  {
   "cell_type": "code",
   "execution_count": 13,
   "id": "72121996",
   "metadata": {},
   "outputs": [],
   "source": [
    "from sklearn.preprocessing import StandardScaler\n",
    "sc = StandardScaler()\n",
    "X_train = sc.fit_transform(X_train)\n",
    "X_test = sc.fit_transform(X_test)"
   ]
  },
  {
   "cell_type": "code",
   "execution_count": 14,
   "id": "9c6716b0",
   "metadata": {},
   "outputs": [
    {
     "name": "stdout",
     "output_type": "stream",
     "text": [
      "[[-0.12201186  0.03893993  0.30036426 ...  0.0084395  -0.37849338\n",
      "   0.33382139]\n",
      " [ 0.12742901  0.56106899  1.21367885 ...  0.70469794 -0.17314555\n",
      "  -1.01526159]\n",
      " [-0.77332968 -0.50252725  0.49033369 ... -0.38942247 -0.37849338\n",
      "   0.33382139]\n",
      " ...\n",
      " [ 1.32613096  1.16055051 -0.12341371 ...  0.43945663 -0.37849338\n",
      "  -0.50935548]\n",
      " [-1.90967141 -1.26960575  1.3232766  ...  0.70469794 -0.37849338\n",
      "  -1.09957928]\n",
      " [-0.43381294 -0.79904499 -1.05864785 ... -0.55519829 -0.37849338\n",
      "   0.8397275 ]]\n"
     ]
    }
   ],
   "source": [
    "print(X_test)"
   ]
  },
  {
   "cell_type": "markdown",
   "id": "fc2508ad",
   "metadata": {},
   "source": [
    "### Different models"
   ]
  },
  {
   "cell_type": "code",
   "execution_count": 15,
   "id": "d11ed36c",
   "metadata": {},
   "outputs": [],
   "source": [
    "from sklearn.model_selection import train_test_split\n",
    "from sklearn.linear_model import LogisticRegression\n",
    "from sklearn.ensemble import RandomForestClassifier\n",
    "from sklearn.ensemble import GradientBoostingClassifier\n",
    "from sklearn.tree import DecisionTreeClassifier\n",
    "from sklearn.svm import SVC\n",
    "from sklearn.neighbors import KNeighborsClassifier\n",
    "from sklearn.naive_bayes import GaussianNB\n",
    "from xgboost import XGBClassifier"
   ]
  },
  {
   "cell_type": "code",
   "execution_count": 16,
   "id": "cf073d08",
   "metadata": {},
   "outputs": [],
   "source": [
    "classifier_lr = LogisticRegression(random_state=0)\n",
    "classifier_rf = RandomForestClassifier(n_estimators=20, random_state=0, criterion='entropy')\n",
    "classifier_gbc = GradientBoostingClassifier(random_state=0)\n",
    "classifier_dt = DecisionTreeClassifier(criterion=\"entropy\", random_state=0)\n",
    "classifier_svc = SVC(kernel='rbf',random_state=0)\n",
    "classifier_knn = KNeighborsClassifier(n_neighbors=10, metric='minkowski',p=2)\n",
    "classifier_nbc = GaussianNB()\n",
    "classifier_xgb = XGBClassifier()"
   ]
  },
  {
   "cell_type": "code",
   "execution_count": 17,
   "id": "6e24b584",
   "metadata": {},
   "outputs": [
    {
     "name": "stdout",
     "output_type": "stream",
     "text": [
      "[01:58:04] WARNING: ../src/learner.cc:1115: Starting in XGBoost 1.3.0, the default evaluation metric used with the objective 'multi:softprob' was changed from 'merror' to 'mlogloss'. Explicitly set eval_metric if you'd like to restore the old behavior.\n"
     ]
    },
    {
     "name": "stderr",
     "output_type": "stream",
     "text": [
      "/Users/zhangyixin/opt/anaconda3/envs/AI/lib/python3.7/site-packages/xgboost/sklearn.py:1224: UserWarning: The use of label encoder in XGBClassifier is deprecated and will be removed in a future release. To remove this warning, do the following: 1) Pass option use_label_encoder=False when constructing XGBClassifier object; and 2) Encode your labels (y) as integers starting with 0, i.e. 0, 1, 2, ..., [num_class - 1].\n",
      "  warnings.warn(label_encoder_deprecation_msg, UserWarning)\n"
     ]
    }
   ],
   "source": [
    "Y_pred_lr = classifier_lr.fit(X_train,Y_train).predict(X_test)\n",
    "Y_pred_rf = classifier_rf.fit(X_train, Y_train).predict(X_test)\n",
    "Y_pred_gbc = classifier_gbc.fit(X_train, Y_train).predict(X_test)\n",
    "Y_pred_dt = classifier_dt.fit(X_train,Y_train).predict(X_test)\n",
    "Y_pred_svc = classifier_svc.fit(X_train, Y_train).predict(X_test)\n",
    "Y_pred_knn = classifier_knn.fit(X_train, Y_train).predict(X_test)\n",
    "Y_pred_nb = classifier_nbc.fit(X_train, Y_train).predict(X_test)\n",
    "Y_pred_xgb = classifier_xgb.fit(X_train, Y_train).predict(X_test)"
   ]
  },
  {
   "cell_type": "markdown",
   "id": "205179fc",
   "metadata": {},
   "source": [
    "### Making confusion matrix"
   ]
  },
  {
   "cell_type": "code",
   "execution_count": 18,
   "id": "86848ef3",
   "metadata": {},
   "outputs": [],
   "source": [
    "from sklearn.metrics import confusion_matrix, accuracy_score"
   ]
  },
  {
   "cell_type": "code",
   "execution_count": 19,
   "id": "60e40598",
   "metadata": {},
   "outputs": [
    {
     "name": "stdout",
     "output_type": "stream",
     "text": [
      "LogisticRregression\n",
      " [[31  4  1 19]\n",
      " [ 0 20 10  0]\n",
      " [ 0  5 18  0]\n",
      " [19  5  1 87]]\n",
      "RandomForest\n",
      " [[48  0  0 17]\n",
      " [ 0 24 14  0]\n",
      " [ 0  7 16  0]\n",
      " [ 2  3  0 89]]\n",
      "GradientBoostingClassifier\n",
      " [[48  0  0 17]\n",
      " [ 0 26 10  0]\n",
      " [ 0  5 20  0]\n",
      " [ 2  3  0 89]]\n",
      "DecisionTreeClassifier\n",
      " [[33  1  0 11]\n",
      " [ 0 21 10  0]\n",
      " [ 0 10 20  0]\n",
      " [17  2  0 95]]\n",
      "SupportingVectorClassifer\n",
      " [[40  4  1 19]\n",
      " [ 0 15  4  0]\n",
      " [ 0  5 19  0]\n",
      " [10 10  6 87]]\n",
      "KNeighborsClassifer\n",
      " [[42  6  2 22]\n",
      " [ 1 12 10  1]\n",
      " [ 0  4 14  0]\n",
      " [ 7 12  4 83]]\n",
      "NaiveBayesClassifer\n",
      " [[  2   0   0   1]\n",
      " [  0  30  19   0]\n",
      " [  0   4  11   0]\n",
      " [ 48   0   0 105]]\n",
      "XGBoostClassifier\n",
      " [[42  0  0 16]\n",
      " [ 0 25  8  0]\n",
      " [ 0  6 22  0]\n",
      " [ 8  3  0 90]]\n"
     ]
    }
   ],
   "source": [
    "print('LogisticRregression\\n',confusion_matrix(Y_pred_lr,Y_test))\n",
    "print('RandomForest\\n', confusion_matrix(Y_pred_rf,Y_test))\n",
    "print('GradientBoostingClassifier\\n', confusion_matrix(Y_pred_gbc, Y_test))\n",
    "print('DecisionTreeClassifier\\n',confusion_matrix(Y_pred_dt,Y_test))\n",
    "print('SupportingVectorClassifer\\n', confusion_matrix(Y_pred_svc,Y_test))\n",
    "print('KNeighborsClassifer\\n', confusion_matrix(Y_pred_knn, Y_test))\n",
    "print('NaiveBayesClassifer\\n',confusion_matrix(Y_pred_nb,Y_test))\n",
    "print('XGBoostClassifier\\n', confusion_matrix(Y_pred_xgb,Y_test))"
   ]
  },
  {
   "cell_type": "code",
   "execution_count": null,
   "id": "809c4650",
   "metadata": {},
   "outputs": [],
   "source": []
  },
  {
   "cell_type": "code",
   "execution_count": null,
   "id": "648378ae",
   "metadata": {},
   "outputs": [],
   "source": []
  },
  {
   "cell_type": "markdown",
   "id": "95aace2f",
   "metadata": {},
   "source": [
    "### Accuracy"
   ]
  },
  {
   "cell_type": "code",
   "execution_count": 20,
   "id": "d828ed29",
   "metadata": {},
   "outputs": [
    {
     "name": "stdout",
     "output_type": "stream",
     "text": [
      "LogReg Accuracy = 0.71\n",
      "RandFor Accuracy = 0.80\n",
      "GBC Accuracy = 0.83\n",
      "DT Accuracy = 0.77\n",
      "SVC Accuracy = 0.73\n",
      "KNN Accuracy = 0.69\n",
      "NBC Accuracy = 0.67\n",
      "XGBoost Accuracy = 0.81\n"
     ]
    }
   ],
   "source": [
    "print('LogReg Accuracy = {:.2f}'.format(accuracy_score(Y_test,Y_pred_lr)))\n",
    "print('RandFor Accuracy = {:.2f}'.format(accuracy_score(Y_test,Y_pred_rf)))\n",
    "print('GBC Accuracy = {:.2f}'.format(accuracy_score(Y_test,Y_pred_gbc)))\n",
    "print('DT Accuracy = {:.2f}'.format(accuracy_score(Y_test,Y_pred_dt)))\n",
    "print('SVC Accuracy = {:.2f}'.format(accuracy_score(Y_test,Y_pred_svc)))\n",
    "print('KNN Accuracy = {:.2f}'.format(accuracy_score(Y_test,Y_pred_knn)))\n",
    "print('NBC Accuracy = {:.2f}'.format(accuracy_score(Y_test,Y_pred_nb)))\n",
    "print('XGBoost Accuracy = {:.2f}'.format(accuracy_score(Y_test,Y_pred_xgb)))"
   ]
  },
  {
   "cell_type": "markdown",
   "id": "22863654",
   "metadata": {},
   "source": [
    "### Applying k-fold Cross Validation"
   ]
  },
  {
   "cell_type": "code",
   "execution_count": 21,
   "id": "bf25acde",
   "metadata": {},
   "outputs": [
    {
     "name": "stderr",
     "output_type": "stream",
     "text": [
      "/Users/zhangyixin/opt/anaconda3/envs/AI/lib/python3.7/site-packages/xgboost/sklearn.py:1224: UserWarning: The use of label encoder in XGBClassifier is deprecated and will be removed in a future release. To remove this warning, do the following: 1) Pass option use_label_encoder=False when constructing XGBClassifier object; and 2) Encode your labels (y) as integers starting with 0, i.e. 0, 1, 2, ..., [num_class - 1].\n",
      "  warnings.warn(label_encoder_deprecation_msg, UserWarning)\n"
     ]
    },
    {
     "name": "stdout",
     "output_type": "stream",
     "text": [
      "[01:58:20] WARNING: ../src/learner.cc:1115: Starting in XGBoost 1.3.0, the default evaluation metric used with the objective 'multi:softprob' was changed from 'merror' to 'mlogloss'. Explicitly set eval_metric if you'd like to restore the old behavior.\n"
     ]
    },
    {
     "name": "stderr",
     "output_type": "stream",
     "text": [
      "/Users/zhangyixin/opt/anaconda3/envs/AI/lib/python3.7/site-packages/xgboost/sklearn.py:1224: UserWarning: The use of label encoder in XGBClassifier is deprecated and will be removed in a future release. To remove this warning, do the following: 1) Pass option use_label_encoder=False when constructing XGBClassifier object; and 2) Encode your labels (y) as integers starting with 0, i.e. 0, 1, 2, ..., [num_class - 1].\n",
      "  warnings.warn(label_encoder_deprecation_msg, UserWarning)\n"
     ]
    },
    {
     "name": "stdout",
     "output_type": "stream",
     "text": [
      "[01:58:20] WARNING: ../src/learner.cc:1115: Starting in XGBoost 1.3.0, the default evaluation metric used with the objective 'multi:softprob' was changed from 'merror' to 'mlogloss'. Explicitly set eval_metric if you'd like to restore the old behavior.\n"
     ]
    },
    {
     "name": "stderr",
     "output_type": "stream",
     "text": [
      "/Users/zhangyixin/opt/anaconda3/envs/AI/lib/python3.7/site-packages/xgboost/sklearn.py:1224: UserWarning: The use of label encoder in XGBClassifier is deprecated and will be removed in a future release. To remove this warning, do the following: 1) Pass option use_label_encoder=False when constructing XGBClassifier object; and 2) Encode your labels (y) as integers starting with 0, i.e. 0, 1, 2, ..., [num_class - 1].\n",
      "  warnings.warn(label_encoder_deprecation_msg, UserWarning)\n"
     ]
    },
    {
     "name": "stdout",
     "output_type": "stream",
     "text": [
      "[01:58:20] WARNING: ../src/learner.cc:1115: Starting in XGBoost 1.3.0, the default evaluation metric used with the objective 'multi:softprob' was changed from 'merror' to 'mlogloss'. Explicitly set eval_metric if you'd like to restore the old behavior.\n"
     ]
    },
    {
     "name": "stderr",
     "output_type": "stream",
     "text": [
      "/Users/zhangyixin/opt/anaconda3/envs/AI/lib/python3.7/site-packages/xgboost/sklearn.py:1224: UserWarning: The use of label encoder in XGBClassifier is deprecated and will be removed in a future release. To remove this warning, do the following: 1) Pass option use_label_encoder=False when constructing XGBClassifier object; and 2) Encode your labels (y) as integers starting with 0, i.e. 0, 1, 2, ..., [num_class - 1].\n",
      "  warnings.warn(label_encoder_deprecation_msg, UserWarning)\n",
      "/Users/zhangyixin/opt/anaconda3/envs/AI/lib/python3.7/site-packages/xgboost/sklearn.py:1224: UserWarning: The use of label encoder in XGBClassifier is deprecated and will be removed in a future release. To remove this warning, do the following: 1) Pass option use_label_encoder=False when constructing XGBClassifier object; and 2) Encode your labels (y) as integers starting with 0, i.e. 0, 1, 2, ..., [num_class - 1].\n",
      "  warnings.warn(label_encoder_deprecation_msg, UserWarning)\n"
     ]
    },
    {
     "name": "stdout",
     "output_type": "stream",
     "text": [
      "[01:58:21] WARNING: ../src/learner.cc:1115: Starting in XGBoost 1.3.0, the default evaluation metric used with the objective 'multi:softprob' was changed from 'merror' to 'mlogloss'. Explicitly set eval_metric if you'd like to restore the old behavior.\n",
      "[01:58:21] WARNING: ../src/learner.cc:1115: Starting in XGBoost 1.3.0, the default evaluation metric used with the objective 'multi:softprob' was changed from 'merror' to 'mlogloss'. Explicitly set eval_metric if you'd like to restore the old behavior.\n"
     ]
    },
    {
     "name": "stderr",
     "output_type": "stream",
     "text": [
      "/Users/zhangyixin/opt/anaconda3/envs/AI/lib/python3.7/site-packages/xgboost/sklearn.py:1224: UserWarning: The use of label encoder in XGBClassifier is deprecated and will be removed in a future release. To remove this warning, do the following: 1) Pass option use_label_encoder=False when constructing XGBClassifier object; and 2) Encode your labels (y) as integers starting with 0, i.e. 0, 1, 2, ..., [num_class - 1].\n",
      "  warnings.warn(label_encoder_deprecation_msg, UserWarning)\n"
     ]
    },
    {
     "name": "stdout",
     "output_type": "stream",
     "text": [
      "[01:58:21] WARNING: ../src/learner.cc:1115: Starting in XGBoost 1.3.0, the default evaluation metric used with the objective 'multi:softprob' was changed from 'merror' to 'mlogloss'. Explicitly set eval_metric if you'd like to restore the old behavior.\n"
     ]
    },
    {
     "name": "stderr",
     "output_type": "stream",
     "text": [
      "/Users/zhangyixin/opt/anaconda3/envs/AI/lib/python3.7/site-packages/xgboost/sklearn.py:1224: UserWarning: The use of label encoder in XGBClassifier is deprecated and will be removed in a future release. To remove this warning, do the following: 1) Pass option use_label_encoder=False when constructing XGBClassifier object; and 2) Encode your labels (y) as integers starting with 0, i.e. 0, 1, 2, ..., [num_class - 1].\n",
      "  warnings.warn(label_encoder_deprecation_msg, UserWarning)\n"
     ]
    },
    {
     "name": "stdout",
     "output_type": "stream",
     "text": [
      "[01:58:21] WARNING: ../src/learner.cc:1115: Starting in XGBoost 1.3.0, the default evaluation metric used with the objective 'multi:softprob' was changed from 'merror' to 'mlogloss'. Explicitly set eval_metric if you'd like to restore the old behavior.\n"
     ]
    },
    {
     "name": "stderr",
     "output_type": "stream",
     "text": [
      "/Users/zhangyixin/opt/anaconda3/envs/AI/lib/python3.7/site-packages/xgboost/sklearn.py:1224: UserWarning: The use of label encoder in XGBClassifier is deprecated and will be removed in a future release. To remove this warning, do the following: 1) Pass option use_label_encoder=False when constructing XGBClassifier object; and 2) Encode your labels (y) as integers starting with 0, i.e. 0, 1, 2, ..., [num_class - 1].\n",
      "  warnings.warn(label_encoder_deprecation_msg, UserWarning)\n"
     ]
    },
    {
     "name": "stdout",
     "output_type": "stream",
     "text": [
      "[01:58:22] WARNING: ../src/learner.cc:1115: Starting in XGBoost 1.3.0, the default evaluation metric used with the objective 'multi:softprob' was changed from 'merror' to 'mlogloss'. Explicitly set eval_metric if you'd like to restore the old behavior.\n"
     ]
    },
    {
     "name": "stderr",
     "output_type": "stream",
     "text": [
      "/Users/zhangyixin/opt/anaconda3/envs/AI/lib/python3.7/site-packages/xgboost/sklearn.py:1224: UserWarning: The use of label encoder in XGBClassifier is deprecated and will be removed in a future release. To remove this warning, do the following: 1) Pass option use_label_encoder=False when constructing XGBClassifier object; and 2) Encode your labels (y) as integers starting with 0, i.e. 0, 1, 2, ..., [num_class - 1].\n",
      "  warnings.warn(label_encoder_deprecation_msg, UserWarning)\n",
      "/Users/zhangyixin/opt/anaconda3/envs/AI/lib/python3.7/site-packages/xgboost/sklearn.py:1224: UserWarning: The use of label encoder in XGBClassifier is deprecated and will be removed in a future release. To remove this warning, do the following: 1) Pass option use_label_encoder=False when constructing XGBClassifier object; and 2) Encode your labels (y) as integers starting with 0, i.e. 0, 1, 2, ..., [num_class - 1].\n",
      "  warnings.warn(label_encoder_deprecation_msg, UserWarning)\n"
     ]
    },
    {
     "name": "stdout",
     "output_type": "stream",
     "text": [
      "[01:58:22] WARNING: ../src/learner.cc:1115: Starting in XGBoost 1.3.0, the default evaluation metric used with the objective 'multi:softprob' was changed from 'merror' to 'mlogloss'. Explicitly set eval_metric if you'd like to restore the old behavior.\n",
      "[01:58:22] WARNING: ../src/learner.cc:1115: Starting in XGBoost 1.3.0, the default evaluation metric used with the objective 'multi:softprob' was changed from 'merror' to 'mlogloss'. Explicitly set eval_metric if you'd like to restore the old behavior.\n"
     ]
    }
   ],
   "source": [
    "from sklearn.model_selection import cross_val_score\n",
    "accuracy_lr = cross_val_score(estimator = classifier_lr, X = X_train, y = Y_train, cv = 10)\n",
    "accuracy_rf = cross_val_score(estimator = classifier_rf, X = X_train, y = Y_train, cv = 10)\n",
    "accuracy_gbc = cross_val_score(estimator = classifier_gbc, X = X_train, y = Y_train, cv = 10)\n",
    "accuracy_dt = cross_val_score(estimator = classifier_dt, X = X_train, y = Y_train, cv = 10)\n",
    "accuracy_svc = cross_val_score(estimator = classifier_svc, X = X_train, y = Y_train, cv = 10)\n",
    "accuracy_knn = cross_val_score(estimator = classifier_knn, X = X_train, y = Y_train, cv = 10)\n",
    "accuracy_nbc = cross_val_score(estimator = classifier_nbc, X = X_train, y = Y_train, cv = 10)\n",
    "accuracy_xgb = cross_val_score(estimator = classifier_xgb, X = X_train, y = Y_train, cv = 10)"
   ]
  },
  {
   "cell_type": "code",
   "execution_count": 22,
   "id": "23c0a13a",
   "metadata": {},
   "outputs": [
    {
     "name": "stdout",
     "output_type": "stream",
     "text": [
      "LogReg Accuracy = 70.58 %  Strandard Deviation = 1.30 %\n",
      "RandFore Accuracy = 77.21 %  Strandard Deviation = 3.72 %\n",
      "GBC Accuracy = 78.34 %  Strandard Deviation = 3.99 %\n",
      "DT Accuracy = 73.32 %  Strandard Deviation = 3.21 %\n",
      "SVC Accuracy = 71.73 %  Strandard Deviation = 4.72 %\n",
      "KNN Accuracy = 63.63 %  Strandard Deviation = 4.00 %\n",
      "NBC Accuracy = 74.47 %  Strandard Deviation = 3.08 %\n",
      "XGB Accuracy = 76.06 %  Strandard Deviation = 4.19 %\n"
     ]
    }
   ],
   "source": [
    "print('LogReg Accuracy = {:.2f} %'.format(accuracy_lr.mean()*100)+'  '+'Strandard Deviation = {:.2f} %'.format(accuracy_lr.std()*100))\n",
    "print('RandFore Accuracy = {:.2f} %'.format(accuracy_rf.mean()*100)+'  '+'Strandard Deviation = {:.2f} %'.format(accuracy_rf.std()*100))\n",
    "print('GBC Accuracy = {:.2f} %'.format(accuracy_gbc.mean()*100)+'  '+'Strandard Deviation = {:.2f} %'.format(accuracy_gbc.std()*100))\n",
    "print('DT Accuracy = {:.2f} %'.format(accuracy_dt.mean()*100)+'  '+'Strandard Deviation = {:.2f} %'.format(accuracy_dt.std()*100))\n",
    "print('SVC Accuracy = {:.2f} %'.format(accuracy_svc.mean()*100)+'  '+'Strandard Deviation = {:.2f} %'.format(accuracy_svc.std()*100))\n",
    "print('KNN Accuracy = {:.2f} %'.format(accuracy_knn.mean()*100)+'  '+'Strandard Deviation = {:.2f} %'.format(accuracy_knn.std()*100))\n",
    "print('NBC Accuracy = {:.2f} %'.format(accuracy_nbc.mean()*100)+'  '+'Strandard Deviation = {:.2f} %'.format(accuracy_nbc.std()*100))\n",
    "print('XGB Accuracy = {:.2f} %'.format(accuracy_xgb.mean()*100)+'  '+'Strandard Deviation = {:.2f} %'.format(accuracy_xgb.std()*100))"
   ]
  },
  {
   "cell_type": "code",
   "execution_count": 32,
   "id": "afcbb696",
   "metadata": {},
   "outputs": [
    {
     "name": "stdout",
     "output_type": "stream",
     "text": [
      "LogisticRregression\n",
      "               precision    recall  f1-score   support\n",
      "\n",
      "      Cloudy       0.56      0.62      0.59        50\n",
      "     Drizzle       0.67      0.59      0.62        34\n",
      "        Rain       0.78      0.60      0.68        30\n",
      "         Sun       0.78      0.82      0.80       106\n",
      "\n",
      "    accuracy                           0.71       220\n",
      "   macro avg       0.70      0.66      0.67       220\n",
      "weighted avg       0.71      0.71      0.71       220\n",
      "\n",
      "RandomForest\n",
      "               precision    recall  f1-score   support\n",
      "\n",
      "      Cloudy       0.74      0.96      0.83        50\n",
      "     Drizzle       0.63      0.71      0.67        34\n",
      "        Rain       0.70      0.53      0.60        30\n",
      "         Sun       0.95      0.84      0.89       106\n",
      "\n",
      "    accuracy                           0.80       220\n",
      "   macro avg       0.75      0.76      0.75       220\n",
      "weighted avg       0.82      0.80      0.80       220\n",
      "\n",
      "GradientBoostingClassifier\n",
      "               precision    recall  f1-score   support\n",
      "\n",
      "      Cloudy       0.74      0.96      0.83        50\n",
      "     Drizzle       0.72      0.76      0.74        34\n",
      "        Rain       0.80      0.67      0.73        30\n",
      "         Sun       0.95      0.84      0.89       106\n",
      "\n",
      "    accuracy                           0.83       220\n",
      "   macro avg       0.80      0.81      0.80       220\n",
      "weighted avg       0.84      0.83      0.83       220\n",
      "\n",
      "DecisionTreeClassifier\n",
      "               precision    recall  f1-score   support\n",
      "\n",
      "      Cloudy       0.73      0.66      0.69        50\n",
      "     Drizzle       0.68      0.62      0.65        34\n",
      "        Rain       0.67      0.67      0.67        30\n",
      "         Sun       0.83      0.90      0.86       106\n",
      "\n",
      "    accuracy                           0.77       220\n",
      "   macro avg       0.73      0.71      0.72       220\n",
      "weighted avg       0.76      0.77      0.76       220\n",
      "\n",
      "SupportingVectorClassifer\n",
      "               precision    recall  f1-score   support\n",
      "\n",
      "      Cloudy       0.62      0.80      0.70        50\n",
      "     Drizzle       0.79      0.44      0.57        34\n",
      "        Rain       0.79      0.63      0.70        30\n",
      "         Sun       0.77      0.82      0.79       106\n",
      "\n",
      "    accuracy                           0.73       220\n",
      "   macro avg       0.74      0.67      0.69       220\n",
      "weighted avg       0.74      0.73      0.73       220\n",
      "\n",
      "KNeighborsClassifer\n",
      "               precision    recall  f1-score   support\n",
      "\n",
      "      Cloudy       0.58      0.84      0.69        50\n",
      "     Drizzle       0.50      0.35      0.41        34\n",
      "        Rain       0.78      0.47      0.58        30\n",
      "         Sun       0.78      0.78      0.78       106\n",
      "\n",
      "    accuracy                           0.69       220\n",
      "   macro avg       0.66      0.61      0.62       220\n",
      "weighted avg       0.69      0.69      0.68       220\n",
      "\n"
     ]
    },
    {
     "ename": "NameError",
     "evalue": "name 'Y_pred_nbc' is not defined",
     "output_type": "error",
     "traceback": [
      "\u001b[0;31m---------------------------------------------------------------------------\u001b[0m",
      "\u001b[0;31mNameError\u001b[0m                                 Traceback (most recent call last)",
      "\u001b[0;32m/var/folders/4m/gyp16rp95q70_cc2kcj1bggr0000gn/T/ipykernel_9298/2864850131.py\u001b[0m in \u001b[0;36m<module>\u001b[0;34m\u001b[0m\n\u001b[1;32m      6\u001b[0m \u001b[0mprint\u001b[0m\u001b[0;34m(\u001b[0m\u001b[0;34m'SupportingVectorClassifer\\n'\u001b[0m\u001b[0;34m,\u001b[0m\u001b[0mclassification_report\u001b[0m\u001b[0;34m(\u001b[0m\u001b[0mY_test\u001b[0m\u001b[0;34m,\u001b[0m\u001b[0mY_pred_svc\u001b[0m\u001b[0;34m,\u001b[0m \u001b[0mzero_division\u001b[0m\u001b[0;34m=\u001b[0m\u001b[0;36m0\u001b[0m\u001b[0;34m)\u001b[0m\u001b[0;34m)\u001b[0m\u001b[0;34m\u001b[0m\u001b[0;34m\u001b[0m\u001b[0m\n\u001b[1;32m      7\u001b[0m \u001b[0mprint\u001b[0m\u001b[0;34m(\u001b[0m\u001b[0;34m'KNeighborsClassifer\\n'\u001b[0m\u001b[0;34m,\u001b[0m\u001b[0mclassification_report\u001b[0m\u001b[0;34m(\u001b[0m\u001b[0mY_test\u001b[0m\u001b[0;34m,\u001b[0m\u001b[0mY_pred_knn\u001b[0m\u001b[0;34m,\u001b[0m \u001b[0mzero_division\u001b[0m\u001b[0;34m=\u001b[0m\u001b[0;36m0\u001b[0m\u001b[0;34m)\u001b[0m\u001b[0;34m)\u001b[0m\u001b[0;34m\u001b[0m\u001b[0;34m\u001b[0m\u001b[0m\n\u001b[0;32m----> 8\u001b[0;31m \u001b[0mprint\u001b[0m\u001b[0;34m(\u001b[0m\u001b[0;34m'NaiveBayesClassifer\\n'\u001b[0m\u001b[0;34m,\u001b[0m\u001b[0mclassification_report\u001b[0m\u001b[0;34m(\u001b[0m\u001b[0mY_test\u001b[0m\u001b[0;34m,\u001b[0m\u001b[0mY_pred_nbc\u001b[0m\u001b[0;34m,\u001b[0m \u001b[0mzero_division\u001b[0m\u001b[0;34m=\u001b[0m\u001b[0;36m0\u001b[0m\u001b[0;34m)\u001b[0m\u001b[0;34m)\u001b[0m\u001b[0;34m\u001b[0m\u001b[0;34m\u001b[0m\u001b[0m\n\u001b[0m\u001b[1;32m      9\u001b[0m \u001b[0mprint\u001b[0m\u001b[0;34m(\u001b[0m\u001b[0;34m'XGBoostClassifier\\n'\u001b[0m\u001b[0;34m,\u001b[0m\u001b[0mclassification_report\u001b[0m\u001b[0;34m(\u001b[0m\u001b[0mY_test\u001b[0m\u001b[0;34m,\u001b[0m\u001b[0mY_pred_xgb\u001b[0m\u001b[0;34m,\u001b[0m \u001b[0mzero_division\u001b[0m\u001b[0;34m=\u001b[0m\u001b[0;36m0\u001b[0m\u001b[0;34m)\u001b[0m\u001b[0;34m)\u001b[0m\u001b[0;34m\u001b[0m\u001b[0;34m\u001b[0m\u001b[0m\n\u001b[1;32m     10\u001b[0m \u001b[0;34m\u001b[0m\u001b[0m\n",
      "\u001b[0;31mNameError\u001b[0m: name 'Y_pred_nbc' is not defined"
     ]
    }
   ],
   "source": [
    "from sklearn.metrics import classification_report\n",
    "print('LogisticRregression\\n',classification_report(Y_test,Y_pred_lr, zero_division=0))\n",
    "print('RandomForest\\n',classification_report(Y_test,Y_pred_rf, zero_division=0))\n",
    "print('GradientBoostingClassifier\\n',classification_report(Y_test,Y_pred_gbc, zero_division=0))\n",
    "print('DecisionTreeClassifier\\n',classification_report(Y_test,Y_pred_dt, zero_division=0))\n",
    "print('SupportingVectorClassifer\\n',classification_report(Y_test,Y_pred_svc, zero_division=0))\n",
    "print('KNeighborsClassifer\\n',classification_report(Y_test,Y_pred_knn, zero_division=0))\n",
    "print('NaiveBayesClassifer\\n',classification_report(Y_test,Y_pred_nbc, zero_division=0))\n",
    "print('XGBoostClassifier\\n',classification_report(Y_test,Y_pred_xgb, zero_division=0))\n",
    "\n"
   ]
  },
  {
   "cell_type": "code",
   "execution_count": 44,
   "id": "ffdd20db",
   "metadata": {},
   "outputs": [
    {
     "data": {
      "text/plain": [
       "{'Cloudy': 218, 'Drizzle': 148, 'Rain': 115, 'Sun': 396}"
      ]
     },
     "execution_count": 44,
     "metadata": {},
     "output_type": "execute_result"
    }
   ],
   "source": [
    "unique, counts = np.unique(Y_train, return_counts=True)\n",
    "dict(zip(unique, counts))"
   ]
  },
  {
   "cell_type": "code",
   "execution_count": null,
   "id": "3ceeb576",
   "metadata": {},
   "outputs": [],
   "source": []
  }
 ],
 "metadata": {
  "kernelspec": {
   "display_name": "Python 3 (ipykernel)",
   "language": "python",
   "name": "python3"
  },
  "language_info": {
   "codemirror_mode": {
    "name": "ipython",
    "version": 3
   },
   "file_extension": ".py",
   "mimetype": "text/x-python",
   "name": "python",
   "nbconvert_exporter": "python",
   "pygments_lexer": "ipython3",
   "version": "3.7.11"
  }
 },
 "nbformat": 4,
 "nbformat_minor": 5
}
